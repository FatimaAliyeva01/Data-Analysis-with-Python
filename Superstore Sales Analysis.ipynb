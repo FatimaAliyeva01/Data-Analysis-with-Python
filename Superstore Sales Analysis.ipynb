{
 "cells": [
  {
   "cell_type": "markdown",
   "id": "40bab60d",
   "metadata": {},
   "source": [
    "📊 Superstore - Sales Analysis📈"
   ]
  },
  {
   "cell_type": "markdown",
   "id": "48d94371",
   "metadata": {},
   "source": [
    "# 1. Importing the required libraries for Analysis"
   ]
  },
  {
   "cell_type": "code",
   "execution_count": 65,
   "id": "29323b0c",
   "metadata": {},
   "outputs": [],
   "source": [
    "import pandas as pd\n",
    "import numpy as py\n",
    "import matplotlib.pyplot as plt\n",
    "import seaborn as sns "
   ]
  },
  {
   "cell_type": "code",
   "execution_count": null,
   "id": "ced97e7c",
   "metadata": {},
   "outputs": [],
   "source": [
    "# Importing necessary libraries for data analysis and visualization\n",
    "import pandas as pd  # pandas is a powerful library for data manipulation and analysis\n",
    "import numpy as np   # numpy provides support for large, multi-dimensional arrays and matrices\n",
    "import matplotlib.pyplot as plt  # matplotlib is used for creating static, animated, and interactive visualizations\n",
    "import seaborn as sns  # seaborn is a data visualization library based on matplotlib, providing a high-level interface\n",
    "\n",
    "# Loading the Superstore sales dataset\n",
    "df = pd.read_csv(\"superstore_sales.csv\")  # Reading the dataset from a CSV file into a pandas DataFrame\n",
    "\n",
    "# Alternatively, you can create a DataFrame with sample data\n",
    "# df = pd.DataFrame({'column1': [value1, value2, ...], 'column2': [value3, value4, ...], ...})\n",
    "# This is useful for testing or working with a small set of data before obtaining the complete dataset\n"
   ]
  },
  {
   "cell_type": "code",
   "execution_count": 66,
   "id": "5e025bf7",
   "metadata": {
    "scrolled": true
   },
   "outputs": [
    {
     "data": {
      "text/html": [
       "<div>\n",
       "<style scoped>\n",
       "    .dataframe tbody tr th:only-of-type {\n",
       "        vertical-align: middle;\n",
       "    }\n",
       "\n",
       "    .dataframe tbody tr th {\n",
       "        vertical-align: top;\n",
       "    }\n",
       "\n",
       "    .dataframe thead th {\n",
       "        text-align: right;\n",
       "    }\n",
       "</style>\n",
       "<table border=\"1\" class=\"dataframe\">\n",
       "  <thead>\n",
       "    <tr style=\"text-align: right;\">\n",
       "      <th></th>\n",
       "      <th>Row ID</th>\n",
       "      <th>Order ID</th>\n",
       "      <th>Order Date</th>\n",
       "      <th>Ship Date</th>\n",
       "      <th>Ship Mode</th>\n",
       "      <th>Customer ID</th>\n",
       "      <th>Customer Name</th>\n",
       "      <th>Segment</th>\n",
       "      <th>Country</th>\n",
       "      <th>City</th>\n",
       "      <th>State</th>\n",
       "      <th>Postal Code</th>\n",
       "      <th>Region</th>\n",
       "      <th>Product ID</th>\n",
       "      <th>Category</th>\n",
       "      <th>Sub-Category</th>\n",
       "      <th>Product Name</th>\n",
       "      <th>Sales</th>\n",
       "    </tr>\n",
       "  </thead>\n",
       "  <tbody>\n",
       "    <tr>\n",
       "      <th>0</th>\n",
       "      <td>1</td>\n",
       "      <td>CA-2017-152156</td>\n",
       "      <td>08/11/2017</td>\n",
       "      <td>11/11/2017</td>\n",
       "      <td>Second Class</td>\n",
       "      <td>CG-12520</td>\n",
       "      <td>Claire Gute</td>\n",
       "      <td>Consumer</td>\n",
       "      <td>United States</td>\n",
       "      <td>Henderson</td>\n",
       "      <td>Kentucky</td>\n",
       "      <td>42420.0</td>\n",
       "      <td>South</td>\n",
       "      <td>FUR-BO-10001798</td>\n",
       "      <td>Furniture</td>\n",
       "      <td>Bookcases</td>\n",
       "      <td>Bush Somerset Collection Bookcase</td>\n",
       "      <td>261.9600</td>\n",
       "    </tr>\n",
       "    <tr>\n",
       "      <th>1</th>\n",
       "      <td>2</td>\n",
       "      <td>CA-2017-152156</td>\n",
       "      <td>08/11/2017</td>\n",
       "      <td>11/11/2017</td>\n",
       "      <td>Second Class</td>\n",
       "      <td>CG-12520</td>\n",
       "      <td>Claire Gute</td>\n",
       "      <td>Consumer</td>\n",
       "      <td>United States</td>\n",
       "      <td>Henderson</td>\n",
       "      <td>Kentucky</td>\n",
       "      <td>42420.0</td>\n",
       "      <td>South</td>\n",
       "      <td>FUR-CH-10000454</td>\n",
       "      <td>Furniture</td>\n",
       "      <td>Chairs</td>\n",
       "      <td>Hon Deluxe Fabric Upholstered Stacking Chairs,...</td>\n",
       "      <td>731.9400</td>\n",
       "    </tr>\n",
       "    <tr>\n",
       "      <th>2</th>\n",
       "      <td>3</td>\n",
       "      <td>CA-2017-138688</td>\n",
       "      <td>12/06/2017</td>\n",
       "      <td>16/06/2017</td>\n",
       "      <td>Second Class</td>\n",
       "      <td>DV-13045</td>\n",
       "      <td>Darrin Van Huff</td>\n",
       "      <td>Corporate</td>\n",
       "      <td>United States</td>\n",
       "      <td>Los Angeles</td>\n",
       "      <td>California</td>\n",
       "      <td>90036.0</td>\n",
       "      <td>West</td>\n",
       "      <td>OFF-LA-10000240</td>\n",
       "      <td>Office Supplies</td>\n",
       "      <td>Labels</td>\n",
       "      <td>Self-Adhesive Address Labels for Typewriters b...</td>\n",
       "      <td>14.6200</td>\n",
       "    </tr>\n",
       "    <tr>\n",
       "      <th>3</th>\n",
       "      <td>4</td>\n",
       "      <td>US-2016-108966</td>\n",
       "      <td>11/10/2016</td>\n",
       "      <td>18/10/2016</td>\n",
       "      <td>Standard Class</td>\n",
       "      <td>SO-20335</td>\n",
       "      <td>Sean O'Donnell</td>\n",
       "      <td>Consumer</td>\n",
       "      <td>United States</td>\n",
       "      <td>Fort Lauderdale</td>\n",
       "      <td>Florida</td>\n",
       "      <td>33311.0</td>\n",
       "      <td>South</td>\n",
       "      <td>FUR-TA-10000577</td>\n",
       "      <td>Furniture</td>\n",
       "      <td>Tables</td>\n",
       "      <td>Bretford CR4500 Series Slim Rectangular Table</td>\n",
       "      <td>957.5775</td>\n",
       "    </tr>\n",
       "    <tr>\n",
       "      <th>4</th>\n",
       "      <td>5</td>\n",
       "      <td>US-2016-108966</td>\n",
       "      <td>11/10/2016</td>\n",
       "      <td>18/10/2016</td>\n",
       "      <td>Standard Class</td>\n",
       "      <td>SO-20335</td>\n",
       "      <td>Sean O'Donnell</td>\n",
       "      <td>Consumer</td>\n",
       "      <td>United States</td>\n",
       "      <td>Fort Lauderdale</td>\n",
       "      <td>Florida</td>\n",
       "      <td>33311.0</td>\n",
       "      <td>South</td>\n",
       "      <td>OFF-ST-10000760</td>\n",
       "      <td>Office Supplies</td>\n",
       "      <td>Storage</td>\n",
       "      <td>Eldon Fold 'N Roll Cart System</td>\n",
       "      <td>22.3680</td>\n",
       "    </tr>\n",
       "  </tbody>\n",
       "</table>\n",
       "</div>"
      ],
      "text/plain": [
       "   Row ID        Order ID  Order Date   Ship Date       Ship Mode Customer ID  \\\n",
       "0       1  CA-2017-152156  08/11/2017  11/11/2017    Second Class    CG-12520   \n",
       "1       2  CA-2017-152156  08/11/2017  11/11/2017    Second Class    CG-12520   \n",
       "2       3  CA-2017-138688  12/06/2017  16/06/2017    Second Class    DV-13045   \n",
       "3       4  US-2016-108966  11/10/2016  18/10/2016  Standard Class    SO-20335   \n",
       "4       5  US-2016-108966  11/10/2016  18/10/2016  Standard Class    SO-20335   \n",
       "\n",
       "     Customer Name    Segment        Country             City       State  \\\n",
       "0      Claire Gute   Consumer  United States        Henderson    Kentucky   \n",
       "1      Claire Gute   Consumer  United States        Henderson    Kentucky   \n",
       "2  Darrin Van Huff  Corporate  United States      Los Angeles  California   \n",
       "3   Sean O'Donnell   Consumer  United States  Fort Lauderdale     Florida   \n",
       "4   Sean O'Donnell   Consumer  United States  Fort Lauderdale     Florida   \n",
       "\n",
       "   Postal Code Region       Product ID         Category Sub-Category  \\\n",
       "0      42420.0  South  FUR-BO-10001798        Furniture    Bookcases   \n",
       "1      42420.0  South  FUR-CH-10000454        Furniture       Chairs   \n",
       "2      90036.0   West  OFF-LA-10000240  Office Supplies       Labels   \n",
       "3      33311.0  South  FUR-TA-10000577        Furniture       Tables   \n",
       "4      33311.0  South  OFF-ST-10000760  Office Supplies      Storage   \n",
       "\n",
       "                                        Product Name     Sales  \n",
       "0                  Bush Somerset Collection Bookcase  261.9600  \n",
       "1  Hon Deluxe Fabric Upholstered Stacking Chairs,...  731.9400  \n",
       "2  Self-Adhesive Address Labels for Typewriters b...   14.6200  \n",
       "3      Bretford CR4500 Series Slim Rectangular Table  957.5775  \n",
       "4                     Eldon Fold 'N Roll Cart System   22.3680  "
      ]
     },
     "execution_count": 66,
     "metadata": {},
     "output_type": "execute_result"
    }
   ],
   "source": [
    "df = pd.read_csv(r\"C:\\Users\\Fatima\\Desktop\\Data Analysis with Python\\Superstore Sales Analysis\\train.csv\")\n",
    "df.head(5)\n",
    "# In this project, we begin by loading a dataset from a CSV file using the pandas library in Python.\n",
    "\n",
    "# Loading the Dataset:\n",
    "# We use the pd.read_csv() method to read the data from a CSV file located at the specified path:\n",
    "# \"C:\\Users\\Fatima\\Desktop\\Data Analysis with Python\\Superstore Sales Analysis\\train.csv\".\n",
    "# The 'r' prefix denotes a raw string, preventing special characters in the file path from being interpreted differently.\n",
    "\n",
    "# Displaying the First Five Rows:\n",
    "# After successfully loading the data, we utilize the df.head() method to display the initial five rows of the DataFrame.\n",
    "# This provides an initial overview of the dataset, allowing us to understand its structure and contents.\n",
    "\n",
    "# It's important to note that this is often an initial step in a data analysis project, where exploration of the dataset begins.\n",
    "# Further analyses, visualizations, and manipulations can be performed on this DataFrame to derive insights and patterns.\n"
   ]
  },
  {
   "cell_type": "code",
   "execution_count": 67,
   "id": "af573a5a",
   "metadata": {},
   "outputs": [
    {
     "name": "stdout",
     "output_type": "stream",
     "text": [
      "Shape: (9800, 18)\n"
     ]
    }
   ],
   "source": [
    "print('Shape:', df.shape)"
   ]
  },
  {
   "cell_type": "code",
   "execution_count": 68,
   "id": "633d1e37",
   "metadata": {},
   "outputs": [
    {
     "name": "stdout",
     "output_type": "stream",
     "text": [
      "<class 'pandas.core.frame.DataFrame'>\n",
      "RangeIndex: 9800 entries, 0 to 9799\n",
      "Data columns (total 18 columns):\n",
      " #   Column         Non-Null Count  Dtype  \n",
      "---  ------         --------------  -----  \n",
      " 0   Row ID         9800 non-null   int64  \n",
      " 1   Order ID       9800 non-null   object \n",
      " 2   Order Date     9800 non-null   object \n",
      " 3   Ship Date      9800 non-null   object \n",
      " 4   Ship Mode      9800 non-null   object \n",
      " 5   Customer ID    9800 non-null   object \n",
      " 6   Customer Name  9800 non-null   object \n",
      " 7   Segment        9800 non-null   object \n",
      " 8   Country        9800 non-null   object \n",
      " 9   City           9800 non-null   object \n",
      " 10  State          9800 non-null   object \n",
      " 11  Postal Code    9789 non-null   float64\n",
      " 12  Region         9800 non-null   object \n",
      " 13  Product ID     9800 non-null   object \n",
      " 14  Category       9800 non-null   object \n",
      " 15  Sub-Category   9800 non-null   object \n",
      " 16  Product Name   9800 non-null   object \n",
      " 17  Sales          9800 non-null   float64\n",
      "dtypes: float64(2), int64(1), object(15)\n",
      "memory usage: 1.3+ MB\n"
     ]
    }
   ],
   "source": [
    "df.info()\n",
    "#The df.info() method provides a concise summary of your DataFrame, including information about the data types, non-null values, and memory usage. It is a useful way to quickly assess the overall structure and characteristics of your dataset."
   ]
  },
  {
   "cell_type": "code",
   "execution_count": 69,
   "id": "f1067f67",
   "metadata": {},
   "outputs": [
    {
     "name": "stdout",
     "output_type": "stream",
     "text": [
      "11\n"
     ]
    }
   ],
   "source": [
    "null_count = df['Postal Code'].isnull().sum()\n",
    "print(null_count)"
   ]
  },
  {
   "cell_type": "code",
   "execution_count": 70,
   "id": "aa0937ae",
   "metadata": {},
   "outputs": [],
   "source": [
    "df[\"Postal Code\"].fillna(0, inplace=True)"
   ]
  },
  {
   "cell_type": "code",
   "execution_count": 71,
   "id": "9592e73e",
   "metadata": {},
   "outputs": [],
   "source": [
    "df['Postal Code'] = df['Postal Code'].astype(int)"
   ]
  },
  {
   "cell_type": "code",
   "execution_count": 72,
   "id": "9e688467",
   "metadata": {},
   "outputs": [
    {
     "name": "stdout",
     "output_type": "stream",
     "text": [
      "<class 'pandas.core.frame.DataFrame'>\n",
      "RangeIndex: 9800 entries, 0 to 9799\n",
      "Data columns (total 18 columns):\n",
      " #   Column         Non-Null Count  Dtype  \n",
      "---  ------         --------------  -----  \n",
      " 0   Row ID         9800 non-null   int64  \n",
      " 1   Order ID       9800 non-null   object \n",
      " 2   Order Date     9800 non-null   object \n",
      " 3   Ship Date      9800 non-null   object \n",
      " 4   Ship Mode      9800 non-null   object \n",
      " 5   Customer ID    9800 non-null   object \n",
      " 6   Customer Name  9800 non-null   object \n",
      " 7   Segment        9800 non-null   object \n",
      " 8   Country        9800 non-null   object \n",
      " 9   City           9800 non-null   object \n",
      " 10  State          9800 non-null   object \n",
      " 11  Postal Code    9800 non-null   int32  \n",
      " 12  Region         9800 non-null   object \n",
      " 13  Product ID     9800 non-null   object \n",
      " 14  Category       9800 non-null   object \n",
      " 15  Sub-Category   9800 non-null   object \n",
      " 16  Product Name   9800 non-null   object \n",
      " 17  Sales          9800 non-null   float64\n",
      "dtypes: float64(1), int32(1), int64(1), object(15)\n",
      "memory usage: 1.3+ MB\n"
     ]
    }
   ],
   "source": [
    "df.info()"
   ]
  },
  {
   "cell_type": "code",
   "execution_count": 73,
   "id": "f0bdd14e",
   "metadata": {},
   "outputs": [
    {
     "data": {
      "text/html": [
       "<div>\n",
       "<style scoped>\n",
       "    .dataframe tbody tr th:only-of-type {\n",
       "        vertical-align: middle;\n",
       "    }\n",
       "\n",
       "    .dataframe tbody tr th {\n",
       "        vertical-align: top;\n",
       "    }\n",
       "\n",
       "    .dataframe thead th {\n",
       "        text-align: right;\n",
       "    }\n",
       "</style>\n",
       "<table border=\"1\" class=\"dataframe\">\n",
       "  <thead>\n",
       "    <tr style=\"text-align: right;\">\n",
       "      <th></th>\n",
       "      <th>Row ID</th>\n",
       "      <th>Postal Code</th>\n",
       "      <th>Sales</th>\n",
       "    </tr>\n",
       "  </thead>\n",
       "  <tbody>\n",
       "    <tr>\n",
       "      <th>count</th>\n",
       "      <td>9800.000000</td>\n",
       "      <td>9800.000000</td>\n",
       "      <td>9800.000000</td>\n",
       "    </tr>\n",
       "    <tr>\n",
       "      <th>mean</th>\n",
       "      <td>4900.500000</td>\n",
       "      <td>55211.280918</td>\n",
       "      <td>230.769059</td>\n",
       "    </tr>\n",
       "    <tr>\n",
       "      <th>std</th>\n",
       "      <td>2829.160653</td>\n",
       "      <td>32076.677954</td>\n",
       "      <td>626.651875</td>\n",
       "    </tr>\n",
       "    <tr>\n",
       "      <th>min</th>\n",
       "      <td>1.000000</td>\n",
       "      <td>0.000000</td>\n",
       "      <td>0.444000</td>\n",
       "    </tr>\n",
       "    <tr>\n",
       "      <th>25%</th>\n",
       "      <td>2450.750000</td>\n",
       "      <td>23223.000000</td>\n",
       "      <td>17.248000</td>\n",
       "    </tr>\n",
       "    <tr>\n",
       "      <th>50%</th>\n",
       "      <td>4900.500000</td>\n",
       "      <td>57551.000000</td>\n",
       "      <td>54.490000</td>\n",
       "    </tr>\n",
       "    <tr>\n",
       "      <th>75%</th>\n",
       "      <td>7350.250000</td>\n",
       "      <td>90008.000000</td>\n",
       "      <td>210.605000</td>\n",
       "    </tr>\n",
       "    <tr>\n",
       "      <th>max</th>\n",
       "      <td>9800.000000</td>\n",
       "      <td>99301.000000</td>\n",
       "      <td>22638.480000</td>\n",
       "    </tr>\n",
       "  </tbody>\n",
       "</table>\n",
       "</div>"
      ],
      "text/plain": [
       "            Row ID   Postal Code         Sales\n",
       "count  9800.000000   9800.000000   9800.000000\n",
       "mean   4900.500000  55211.280918    230.769059\n",
       "std    2829.160653  32076.677954    626.651875\n",
       "min       1.000000      0.000000      0.444000\n",
       "25%    2450.750000  23223.000000     17.248000\n",
       "50%    4900.500000  57551.000000     54.490000\n",
       "75%    7350.250000  90008.000000    210.605000\n",
       "max    9800.000000  99301.000000  22638.480000"
      ]
     },
     "execution_count": 73,
     "metadata": {},
     "output_type": "execute_result"
    }
   ],
   "source": [
    "df.describe()"
   ]
  },
  {
   "cell_type": "markdown",
   "id": "fb43e0cc",
   "metadata": {},
   "source": [
    "# Data cleaning"
   ]
  },
  {
   "cell_type": "code",
   "execution_count": 74,
   "id": "adb2a15e",
   "metadata": {},
   "outputs": [
    {
     "name": "stdout",
     "output_type": "stream",
     "text": [
      "No exist duplicated values\n"
     ]
    }
   ],
   "source": [
    "if df.duplicated().sum()>0:\n",
    "    print('Duplicated values')\n",
    "else:\n",
    "    print('No exist duplicated values')"
   ]
  },
  {
   "cell_type": "code",
   "execution_count": 75,
   "id": "1c26dbc5",
   "metadata": {},
   "outputs": [
    {
     "data": {
      "text/plain": [
       "0       False\n",
       "1       False\n",
       "2       False\n",
       "3       False\n",
       "4       False\n",
       "        ...  \n",
       "9795    False\n",
       "9796    False\n",
       "9797    False\n",
       "9798    False\n",
       "9799    False\n",
       "Length: 9800, dtype: bool"
      ]
     },
     "execution_count": 75,
     "metadata": {},
     "output_type": "execute_result"
    }
   ],
   "source": [
    "df.duplicated()"
   ]
  },
  {
   "cell_type": "markdown",
   "id": "0c87f19b",
   "metadata": {},
   "source": [
    "# Customer Analysis\n",
    "##Customer segmentation"
   ]
  },
  {
   "cell_type": "code",
   "execution_count": 76,
   "id": "a6dc0db1",
   "metadata": {},
   "outputs": [
    {
     "data": {
      "text/html": [
       "<div>\n",
       "<style scoped>\n",
       "    .dataframe tbody tr th:only-of-type {\n",
       "        vertical-align: middle;\n",
       "    }\n",
       "\n",
       "    .dataframe tbody tr th {\n",
       "        vertical-align: top;\n",
       "    }\n",
       "\n",
       "    .dataframe thead th {\n",
       "        text-align: right;\n",
       "    }\n",
       "</style>\n",
       "<table border=\"1\" class=\"dataframe\">\n",
       "  <thead>\n",
       "    <tr style=\"text-align: right;\">\n",
       "      <th></th>\n",
       "      <th>Row ID</th>\n",
       "      <th>Order ID</th>\n",
       "      <th>Order Date</th>\n",
       "      <th>Ship Date</th>\n",
       "      <th>Ship Mode</th>\n",
       "      <th>Customer ID</th>\n",
       "      <th>Customer Name</th>\n",
       "      <th>Segment</th>\n",
       "      <th>Country</th>\n",
       "      <th>City</th>\n",
       "      <th>State</th>\n",
       "      <th>Postal Code</th>\n",
       "      <th>Region</th>\n",
       "      <th>Product ID</th>\n",
       "      <th>Category</th>\n",
       "      <th>Sub-Category</th>\n",
       "      <th>Product Name</th>\n",
       "      <th>Sales</th>\n",
       "    </tr>\n",
       "  </thead>\n",
       "  <tbody>\n",
       "    <tr>\n",
       "      <th>0</th>\n",
       "      <td>1</td>\n",
       "      <td>CA-2017-152156</td>\n",
       "      <td>08/11/2017</td>\n",
       "      <td>11/11/2017</td>\n",
       "      <td>Second Class</td>\n",
       "      <td>CG-12520</td>\n",
       "      <td>Claire Gute</td>\n",
       "      <td>Consumer</td>\n",
       "      <td>United States</td>\n",
       "      <td>Henderson</td>\n",
       "      <td>Kentucky</td>\n",
       "      <td>42420</td>\n",
       "      <td>South</td>\n",
       "      <td>FUR-BO-10001798</td>\n",
       "      <td>Furniture</td>\n",
       "      <td>Bookcases</td>\n",
       "      <td>Bush Somerset Collection Bookcase</td>\n",
       "      <td>261.9600</td>\n",
       "    </tr>\n",
       "    <tr>\n",
       "      <th>1</th>\n",
       "      <td>2</td>\n",
       "      <td>CA-2017-152156</td>\n",
       "      <td>08/11/2017</td>\n",
       "      <td>11/11/2017</td>\n",
       "      <td>Second Class</td>\n",
       "      <td>CG-12520</td>\n",
       "      <td>Claire Gute</td>\n",
       "      <td>Consumer</td>\n",
       "      <td>United States</td>\n",
       "      <td>Henderson</td>\n",
       "      <td>Kentucky</td>\n",
       "      <td>42420</td>\n",
       "      <td>South</td>\n",
       "      <td>FUR-CH-10000454</td>\n",
       "      <td>Furniture</td>\n",
       "      <td>Chairs</td>\n",
       "      <td>Hon Deluxe Fabric Upholstered Stacking Chairs,...</td>\n",
       "      <td>731.9400</td>\n",
       "    </tr>\n",
       "    <tr>\n",
       "      <th>2</th>\n",
       "      <td>3</td>\n",
       "      <td>CA-2017-138688</td>\n",
       "      <td>12/06/2017</td>\n",
       "      <td>16/06/2017</td>\n",
       "      <td>Second Class</td>\n",
       "      <td>DV-13045</td>\n",
       "      <td>Darrin Van Huff</td>\n",
       "      <td>Corporate</td>\n",
       "      <td>United States</td>\n",
       "      <td>Los Angeles</td>\n",
       "      <td>California</td>\n",
       "      <td>90036</td>\n",
       "      <td>West</td>\n",
       "      <td>OFF-LA-10000240</td>\n",
       "      <td>Office Supplies</td>\n",
       "      <td>Labels</td>\n",
       "      <td>Self-Adhesive Address Labels for Typewriters b...</td>\n",
       "      <td>14.6200</td>\n",
       "    </tr>\n",
       "    <tr>\n",
       "      <th>3</th>\n",
       "      <td>4</td>\n",
       "      <td>US-2016-108966</td>\n",
       "      <td>11/10/2016</td>\n",
       "      <td>18/10/2016</td>\n",
       "      <td>Standard Class</td>\n",
       "      <td>SO-20335</td>\n",
       "      <td>Sean O'Donnell</td>\n",
       "      <td>Consumer</td>\n",
       "      <td>United States</td>\n",
       "      <td>Fort Lauderdale</td>\n",
       "      <td>Florida</td>\n",
       "      <td>33311</td>\n",
       "      <td>South</td>\n",
       "      <td>FUR-TA-10000577</td>\n",
       "      <td>Furniture</td>\n",
       "      <td>Tables</td>\n",
       "      <td>Bretford CR4500 Series Slim Rectangular Table</td>\n",
       "      <td>957.5775</td>\n",
       "    </tr>\n",
       "    <tr>\n",
       "      <th>4</th>\n",
       "      <td>5</td>\n",
       "      <td>US-2016-108966</td>\n",
       "      <td>11/10/2016</td>\n",
       "      <td>18/10/2016</td>\n",
       "      <td>Standard Class</td>\n",
       "      <td>SO-20335</td>\n",
       "      <td>Sean O'Donnell</td>\n",
       "      <td>Consumer</td>\n",
       "      <td>United States</td>\n",
       "      <td>Fort Lauderdale</td>\n",
       "      <td>Florida</td>\n",
       "      <td>33311</td>\n",
       "      <td>South</td>\n",
       "      <td>OFF-ST-10000760</td>\n",
       "      <td>Office Supplies</td>\n",
       "      <td>Storage</td>\n",
       "      <td>Eldon Fold 'N Roll Cart System</td>\n",
       "      <td>22.3680</td>\n",
       "    </tr>\n",
       "  </tbody>\n",
       "</table>\n",
       "</div>"
      ],
      "text/plain": [
       "   Row ID        Order ID  Order Date   Ship Date       Ship Mode Customer ID  \\\n",
       "0       1  CA-2017-152156  08/11/2017  11/11/2017    Second Class    CG-12520   \n",
       "1       2  CA-2017-152156  08/11/2017  11/11/2017    Second Class    CG-12520   \n",
       "2       3  CA-2017-138688  12/06/2017  16/06/2017    Second Class    DV-13045   \n",
       "3       4  US-2016-108966  11/10/2016  18/10/2016  Standard Class    SO-20335   \n",
       "4       5  US-2016-108966  11/10/2016  18/10/2016  Standard Class    SO-20335   \n",
       "\n",
       "     Customer Name    Segment        Country             City       State  \\\n",
       "0      Claire Gute   Consumer  United States        Henderson    Kentucky   \n",
       "1      Claire Gute   Consumer  United States        Henderson    Kentucky   \n",
       "2  Darrin Van Huff  Corporate  United States      Los Angeles  California   \n",
       "3   Sean O'Donnell   Consumer  United States  Fort Lauderdale     Florida   \n",
       "4   Sean O'Donnell   Consumer  United States  Fort Lauderdale     Florida   \n",
       "\n",
       "   Postal Code Region       Product ID         Category Sub-Category  \\\n",
       "0        42420  South  FUR-BO-10001798        Furniture    Bookcases   \n",
       "1        42420  South  FUR-CH-10000454        Furniture       Chairs   \n",
       "2        90036   West  OFF-LA-10000240  Office Supplies       Labels   \n",
       "3        33311  South  FUR-TA-10000577        Furniture       Tables   \n",
       "4        33311  South  OFF-ST-10000760  Office Supplies      Storage   \n",
       "\n",
       "                                        Product Name     Sales  \n",
       "0                  Bush Somerset Collection Bookcase  261.9600  \n",
       "1  Hon Deluxe Fabric Upholstered Stacking Chairs,...  731.9400  \n",
       "2  Self-Adhesive Address Labels for Typewriters b...   14.6200  \n",
       "3      Bretford CR4500 Series Slim Rectangular Table  957.5775  \n",
       "4                     Eldon Fold 'N Roll Cart System   22.3680  "
      ]
     },
     "execution_count": 76,
     "metadata": {},
     "output_type": "execute_result"
    }
   ],
   "source": [
    "df.head(5)"
   ]
  },
  {
   "cell_type": "code",
   "execution_count": 77,
   "id": "7bf27d3c",
   "metadata": {},
   "outputs": [
    {
     "name": "stdout",
     "output_type": "stream",
     "text": [
      "['Consumer' 'Corporate' 'Home Office']\n"
     ]
    }
   ],
   "source": [
    "types_of_customers = df['Segment'].unique()\n",
    "print(types_of_customers)"
   ]
  },
  {
   "cell_type": "code",
   "execution_count": 78,
   "id": "d1d0817c",
   "metadata": {},
   "outputs": [
    {
     "name": "stdout",
     "output_type": "stream",
     "text": [
      "         index  Segment\n",
      "0     Consumer     5101\n",
      "1    Corporate     2953\n",
      "2  Home Office     1746\n"
     ]
    }
   ],
   "source": [
    "number_of_customers = df['Segment'].value_counts().reset_index()\n",
    "print(number_of_customers)"
   ]
  },
  {
   "cell_type": "code",
   "execution_count": 79,
   "id": "6a1f6375",
   "metadata": {},
   "outputs": [
    {
     "name": "stdout",
     "output_type": "stream",
     "text": [
      "  Customer types  Total Customers\n",
      "0       Consumer             5101\n",
      "1      Corporate             2953\n",
      "2    Home Office             1746\n"
     ]
    }
   ],
   "source": [
    "number_of_customers=number_of_customers.rename(columns={'index':'Customer types','Segment':'Total Customers'})\n",
    "print(number_of_customers)"
   ]
  },
  {
   "cell_type": "code",
   "execution_count": 80,
   "id": "7d127527",
   "metadata": {},
   "outputs": [
    {
     "data": {
      "image/png": "[encoded data removed]",
      "text/plain": [
       "<Figure size 432x288 with 1 Axes>"
      ]
     },
     "metadata": {},
     "output_type": "display_data"
    }
   ],
   "source": [
    "plt.pie(number_of_customers['Total Customers'],labels=number_of_customers['Customer types'],autopct='%1.1f%%')\n",
    "plt.title('Distribution of Customers')\n",
    "plt.show()"
   ]
  },
  {
   "cell_type": "code",
   "execution_count": 81,
   "id": "145a2b05",
   "metadata": {},
   "outputs": [],
   "source": [
    "#Customer_types = ['Corporate', 'Home Office', 'Consumer']\n",
    "#Total_customers = [ '2953, 1746, 5101']\n",
    "#plt.figure()\n",
    "#plt.pie(total_customers, labels=customer_types, autopct='%1.1f%%', startangle=900, explode=(0.11, 0, 0))\n",
    "#plt.title('Distribution of Customers')\n",
    "#plt.show()\n"
   ]
  },
  {
   "cell_type": "code",
   "execution_count": 82,
   "id": "1869895c",
   "metadata": {},
   "outputs": [
    {
     "name": "stdout",
     "output_type": "stream",
     "text": [
      "  Customer Type   Total Sales\n",
      "0      Consumer  1.148061e+06\n",
      "1     Corporate  6.884941e+05\n",
      "2   Home Office  4.249822e+05\n"
     ]
    }
   ],
   "source": [
    "sales_category=df.groupby('Segment')['Sales'].sum().reset_index()\n",
    "sales_category=sales_category.rename(columns={'Segment':'Customer Type','Sales':'Total Sales'})\n",
    "print(sales_category)"
   ]
  },
  {
   "cell_type": "code",
   "execution_count": 83,
   "id": "ede07866",
   "metadata": {},
   "outputs": [
    {
     "data": {
      "image/png": "[encoded data removed]",
      "text/plain": [
       "<Figure size 432x288 with 1 Axes>"
      ]
     },
     "metadata": {},
     "output_type": "display_data"
    }
   ],
   "source": [
    "plt.pie(sales_category['Total Sales'], labels=sales_category['Customer Type'], autopct='%1.1f%%')\n",
    "plt.title('Sales Customer Category')\n",
    "plt.show()"
   ]
  },
  {
   "cell_type": "code",
   "execution_count": 84,
   "id": "ea44ec71",
   "metadata": {},
   "outputs": [
    {
     "data": {
      "image/png": "[encoded data removed]",
      "text/plain": [
       "<Figure size 432x288 with 1 Axes>"
      ]
     },
     "metadata": {
      "needs_background": "light"
     },
     "output_type": "display_data"
    }
   ],
   "source": [
    "plt.bar(sales_category['Customer Type'], sales_category['Total Sales'])\n",
    "plt.title('Sales Customer Category')\n",
    "plt.xlabel('Customer Type')\n",
    "plt.ylabel('Total Sales')\n",
    "plt.show()"
   ]
  },
  {
   "cell_type": "markdown",
   "id": "bad88fba",
   "metadata": {},
   "source": [
    "# Customer Loyalty"
   ]
  },
  {
   "cell_type": "code",
   "execution_count": 85,
   "id": "26ecb11a",
   "metadata": {},
   "outputs": [
    {
     "data": {
      "text/html": [
       "<div>\n",
       "<style scoped>\n",
       "    .dataframe tbody tr th:only-of-type {\n",
       "        vertical-align: middle;\n",
       "    }\n",
       "\n",
       "    .dataframe tbody tr th {\n",
       "        vertical-align: top;\n",
       "    }\n",
       "\n",
       "    .dataframe thead th {\n",
       "        text-align: right;\n",
       "    }\n",
       "</style>\n",
       "<table border=\"1\" class=\"dataframe\">\n",
       "  <thead>\n",
       "    <tr style=\"text-align: right;\">\n",
       "      <th></th>\n",
       "      <th>Row ID</th>\n",
       "      <th>Order ID</th>\n",
       "      <th>Order Date</th>\n",
       "      <th>Ship Date</th>\n",
       "      <th>Ship Mode</th>\n",
       "      <th>Customer ID</th>\n",
       "      <th>Customer Name</th>\n",
       "      <th>Segment</th>\n",
       "      <th>Country</th>\n",
       "      <th>City</th>\n",
       "      <th>State</th>\n",
       "      <th>Postal Code</th>\n",
       "      <th>Region</th>\n",
       "      <th>Product ID</th>\n",
       "      <th>Category</th>\n",
       "      <th>Sub-Category</th>\n",
       "      <th>Product Name</th>\n",
       "      <th>Sales</th>\n",
       "    </tr>\n",
       "  </thead>\n",
       "  <tbody>\n",
       "    <tr>\n",
       "      <th>0</th>\n",
       "      <td>1</td>\n",
       "      <td>CA-2017-152156</td>\n",
       "      <td>08/11/2017</td>\n",
       "      <td>11/11/2017</td>\n",
       "      <td>Second Class</td>\n",
       "      <td>CG-12520</td>\n",
       "      <td>Claire Gute</td>\n",
       "      <td>Consumer</td>\n",
       "      <td>United States</td>\n",
       "      <td>Henderson</td>\n",
       "      <td>Kentucky</td>\n",
       "      <td>42420</td>\n",
       "      <td>South</td>\n",
       "      <td>FUR-BO-10001798</td>\n",
       "      <td>Furniture</td>\n",
       "      <td>Bookcases</td>\n",
       "      <td>Bush Somerset Collection Bookcase</td>\n",
       "      <td>261.9600</td>\n",
       "    </tr>\n",
       "    <tr>\n",
       "      <th>1</th>\n",
       "      <td>2</td>\n",
       "      <td>CA-2017-152156</td>\n",
       "      <td>08/11/2017</td>\n",
       "      <td>11/11/2017</td>\n",
       "      <td>Second Class</td>\n",
       "      <td>CG-12520</td>\n",
       "      <td>Claire Gute</td>\n",
       "      <td>Consumer</td>\n",
       "      <td>United States</td>\n",
       "      <td>Henderson</td>\n",
       "      <td>Kentucky</td>\n",
       "      <td>42420</td>\n",
       "      <td>South</td>\n",
       "      <td>FUR-CH-10000454</td>\n",
       "      <td>Furniture</td>\n",
       "      <td>Chairs</td>\n",
       "      <td>Hon Deluxe Fabric Upholstered Stacking Chairs,...</td>\n",
       "      <td>731.9400</td>\n",
       "    </tr>\n",
       "    <tr>\n",
       "      <th>2</th>\n",
       "      <td>3</td>\n",
       "      <td>CA-2017-138688</td>\n",
       "      <td>12/06/2017</td>\n",
       "      <td>16/06/2017</td>\n",
       "      <td>Second Class</td>\n",
       "      <td>DV-13045</td>\n",
       "      <td>Darrin Van Huff</td>\n",
       "      <td>Corporate</td>\n",
       "      <td>United States</td>\n",
       "      <td>Los Angeles</td>\n",
       "      <td>California</td>\n",
       "      <td>90036</td>\n",
       "      <td>West</td>\n",
       "      <td>OFF-LA-10000240</td>\n",
       "      <td>Office Supplies</td>\n",
       "      <td>Labels</td>\n",
       "      <td>Self-Adhesive Address Labels for Typewriters b...</td>\n",
       "      <td>14.6200</td>\n",
       "    </tr>\n",
       "    <tr>\n",
       "      <th>3</th>\n",
       "      <td>4</td>\n",
       "      <td>US-2016-108966</td>\n",
       "      <td>11/10/2016</td>\n",
       "      <td>18/10/2016</td>\n",
       "      <td>Standard Class</td>\n",
       "      <td>SO-20335</td>\n",
       "      <td>Sean O'Donnell</td>\n",
       "      <td>Consumer</td>\n",
       "      <td>United States</td>\n",
       "      <td>Fort Lauderdale</td>\n",
       "      <td>Florida</td>\n",
       "      <td>33311</td>\n",
       "      <td>South</td>\n",
       "      <td>FUR-TA-10000577</td>\n",
       "      <td>Furniture</td>\n",
       "      <td>Tables</td>\n",
       "      <td>Bretford CR4500 Series Slim Rectangular Table</td>\n",
       "      <td>957.5775</td>\n",
       "    </tr>\n",
       "    <tr>\n",
       "      <th>4</th>\n",
       "      <td>5</td>\n",
       "      <td>US-2016-108966</td>\n",
       "      <td>11/10/2016</td>\n",
       "      <td>18/10/2016</td>\n",
       "      <td>Standard Class</td>\n",
       "      <td>SO-20335</td>\n",
       "      <td>Sean O'Donnell</td>\n",
       "      <td>Consumer</td>\n",
       "      <td>United States</td>\n",
       "      <td>Fort Lauderdale</td>\n",
       "      <td>Florida</td>\n",
       "      <td>33311</td>\n",
       "      <td>South</td>\n",
       "      <td>OFF-ST-10000760</td>\n",
       "      <td>Office Supplies</td>\n",
       "      <td>Storage</td>\n",
       "      <td>Eldon Fold 'N Roll Cart System</td>\n",
       "      <td>22.3680</td>\n",
       "    </tr>\n",
       "  </tbody>\n",
       "</table>\n",
       "</div>"
      ],
      "text/plain": [
       "   Row ID        Order ID  Order Date   Ship Date       Ship Mode Customer ID  \\\n",
       "0       1  CA-2017-152156  08/11/2017  11/11/2017    Second Class    CG-12520   \n",
       "1       2  CA-2017-152156  08/11/2017  11/11/2017    Second Class    CG-12520   \n",
       "2       3  CA-2017-138688  12/06/2017  16/06/2017    Second Class    DV-13045   \n",
       "3       4  US-2016-108966  11/10/2016  18/10/2016  Standard Class    SO-20335   \n",
       "4       5  US-2016-108966  11/10/2016  18/10/2016  Standard Class    SO-20335   \n",
       "\n",
       "     Customer Name    Segment        Country             City       State  \\\n",
       "0      Claire Gute   Consumer  United States        Henderson    Kentucky   \n",
       "1      Claire Gute   Consumer  United States        Henderson    Kentucky   \n",
       "2  Darrin Van Huff  Corporate  United States      Los Angeles  California   \n",
       "3   Sean O'Donnell   Consumer  United States  Fort Lauderdale     Florida   \n",
       "4   Sean O'Donnell   Consumer  United States  Fort Lauderdale     Florida   \n",
       "\n",
       "   Postal Code Region       Product ID         Category Sub-Category  \\\n",
       "0        42420  South  FUR-BO-10001798        Furniture    Bookcases   \n",
       "1        42420  South  FUR-CH-10000454        Furniture       Chairs   \n",
       "2        90036   West  OFF-LA-10000240  Office Supplies       Labels   \n",
       "3        33311  South  FUR-TA-10000577        Furniture       Tables   \n",
       "4        33311  South  OFF-ST-10000760  Office Supplies      Storage   \n",
       "\n",
       "                                        Product Name     Sales  \n",
       "0                  Bush Somerset Collection Bookcase  261.9600  \n",
       "1  Hon Deluxe Fabric Upholstered Stacking Chairs,...  731.9400  \n",
       "2  Self-Adhesive Address Labels for Typewriters b...   14.6200  \n",
       "3      Bretford CR4500 Series Slim Rectangular Table  957.5775  \n",
       "4                     Eldon Fold 'N Roll Cart System   22.3680  "
      ]
     },
     "execution_count": 85,
     "metadata": {},
     "output_type": "execute_result"
    }
   ],
   "source": [
    "df.head(5)"
   ]
  },
  {
   "cell_type": "code",
   "execution_count": 86,
   "id": "a889bc32",
   "metadata": {},
   "outputs": [
    {
     "name": "stdout",
     "output_type": "stream",
     "text": [
      "    Customer ID       Customer Name    Segment  Order ID\n",
      "0      AA-10315          Alex Avila   Consumer        11\n",
      "1      AA-10375        Allen Armold   Consumer        15\n",
      "2      AA-10480        Andrew Allen   Consumer        12\n",
      "3      AA-10645       Anna Andreadi   Consumer        18\n",
      "4      AB-10015       Aaron Bergman   Consumer         6\n",
      "..          ...                 ...        ...       ...\n",
      "788    XP-21865        Xylona Preis   Consumer        28\n",
      "789    YC-21895      Yoseph Carroll  Corporate         8\n",
      "790    YS-21880       Yana Sorensen  Corporate        12\n",
      "791    ZC-21910    Zuschuss Carroll   Consumer        31\n",
      "792    ZD-21925  Zuschuss Donatelli   Consumer         9\n",
      "\n",
      "[793 rows x 4 columns]\n"
     ]
    }
   ],
   "source": [
    "#group  by Order ID \n",
    "customer_order=df.groupby(['Customer ID','Customer Name','Segment'])['Order ID'].count().reset_index()\n",
    "print(customer_order)"
   ]
  },
  {
   "cell_type": "code",
   "execution_count": 87,
   "id": "bae7f4d2",
   "metadata": {},
   "outputs": [
    {
     "name": "stdout",
     "output_type": "stream",
     "text": [
      "    Customer ID       Customer Name    Segment  Total Orders\n",
      "0      AA-10315          Alex Avila   Consumer            11\n",
      "1      AA-10375        Allen Armold   Consumer            15\n",
      "2      AA-10480        Andrew Allen   Consumer            12\n",
      "3      AA-10645       Anna Andreadi   Consumer            18\n",
      "4      AB-10015       Aaron Bergman   Consumer             6\n",
      "..          ...                 ...        ...           ...\n",
      "788    XP-21865        Xylona Preis   Consumer            28\n",
      "789    YC-21895      Yoseph Carroll  Corporate             8\n",
      "790    YS-21880       Yana Sorensen  Corporate            12\n",
      "791    ZC-21910    Zuschuss Carroll   Consumer            31\n",
      "792    ZD-21925  Zuschuss Donatelli   Consumer             9\n",
      "\n",
      "[793 rows x 4 columns]\n"
     ]
    }
   ],
   "source": [
    "# Rename Order ID column\n",
    "customer_order.rename(columns={'Order ID': 'Total Orders'}, inplace=True)\n",
    "print(customer_order)"
   ]
  },
  {
   "cell_type": "code",
   "execution_count": 88,
   "id": "8b291a37",
   "metadata": {},
   "outputs": [
    {
     "name": "stdout",
     "output_type": "stream",
     "text": [
      "  Customer ID         Customer Name      Segment  Total Orders\n",
      "0    AA-10315            Alex Avila     Consumer            11\n",
      "1    AA-10375          Allen Armold     Consumer            15\n",
      "2    AA-10480          Andrew Allen     Consumer            12\n",
      "3    AA-10645         Anna Andreadi     Consumer            18\n",
      "4    AB-10015         Aaron Bergman     Consumer             6\n",
      "5    AB-10060       Adam Bellavance  Home Office            18\n",
      "6    AB-10105         Adrian Barton     Consumer            20\n",
      "7    AB-10150           Aimee Bixby     Consumer            12\n",
      "8    AB-10165           Alan Barnes     Consumer            14\n",
      "9    AB-10255  Alejandro Ballentine  Home Office            14\n"
     ]
    }
   ],
   "source": [
    "#identify report customers\n",
    "repeat_customers=customer_order[customer_order['Total Orders']>=1]\n",
    "\n",
    "#Sort \"repeat_customers\" in descending order based on the \"Order Frequency\" column\n",
    "sorted_repeat_customers=repeat_customers.sort_values(by='Total Orders',ascending = False)\n",
    "\n",
    "# Print the result- the first 10 and reset index\n",
    "print(repeat_customers.head(10).reset_index(drop=True))"
   ]
  },
  {
   "cell_type": "markdown",
   "id": "eb2ddd18",
   "metadata": {},
   "source": [
    "# Sales by Customer"
   ]
  },
  {
   "cell_type": "code",
   "execution_count": 89,
   "id": "6b583546",
   "metadata": {},
   "outputs": [
    {
     "name": "stdout",
     "output_type": "stream",
     "text": [
      "  Customer ID       Customer Name      Segment      Sales\n",
      "0    SM-20320         Sean Miller  Home Office  25043.050\n",
      "1    TC-20980        Tamara Chand    Corporate  19052.218\n",
      "2    RB-19360        Raymond Buch     Consumer  15117.339\n",
      "3    TA-21385        Tom Ashbrook  Home Office  14595.620\n",
      "4    AB-10105       Adrian Barton     Consumer  14473.571\n",
      "5    KL-16645        Ken Lonsdale     Consumer  14175.229\n",
      "6    SC-20095        Sanjit Chand     Consumer  14142.334\n",
      "7    HL-15040        Hunter Lopez     Consumer  12873.298\n",
      "8    SE-20110        Sanjit Engle     Consumer  12209.438\n",
      "9    CC-12370  Christopher Conant     Consumer  12129.072\n"
     ]
    }
   ],
   "source": [
    "customer_sales=df.groupby(['Customer ID', 'Customer Name','Segment'])['Sales'].sum().reset_index()\n",
    "top_spenders=customer_sales.sort_values(by='Sales',ascending = False)\n",
    "print(top_spenders.head(10).reset_index(drop=True))"
   ]
  },
  {
   "cell_type": "markdown",
   "id": "f0ccb917",
   "metadata": {},
   "source": [
    "# Shipping"
   ]
  },
  {
   "cell_type": "code",
   "execution_count": 90,
   "id": "2659e568",
   "metadata": {},
   "outputs": [
    {
     "data": {
      "text/html": [
       "<div>\n",
       "<style scoped>\n",
       "    .dataframe tbody tr th:only-of-type {\n",
       "        vertical-align: middle;\n",
       "    }\n",
       "\n",
       "    .dataframe tbody tr th {\n",
       "        vertical-align: top;\n",
       "    }\n",
       "\n",
       "    .dataframe thead th {\n",
       "        text-align: right;\n",
       "    }\n",
       "</style>\n",
       "<table border=\"1\" class=\"dataframe\">\n",
       "  <thead>\n",
       "    <tr style=\"text-align: right;\">\n",
       "      <th></th>\n",
       "      <th>Row ID</th>\n",
       "      <th>Order ID</th>\n",
       "      <th>Order Date</th>\n",
       "      <th>Ship Date</th>\n",
       "      <th>Ship Mode</th>\n",
       "      <th>Customer ID</th>\n",
       "      <th>Customer Name</th>\n",
       "      <th>Segment</th>\n",
       "      <th>Country</th>\n",
       "      <th>City</th>\n",
       "      <th>State</th>\n",
       "      <th>Postal Code</th>\n",
       "      <th>Region</th>\n",
       "      <th>Product ID</th>\n",
       "      <th>Category</th>\n",
       "      <th>Sub-Category</th>\n",
       "      <th>Product Name</th>\n",
       "      <th>Sales</th>\n",
       "    </tr>\n",
       "  </thead>\n",
       "  <tbody>\n",
       "    <tr>\n",
       "      <th>0</th>\n",
       "      <td>1</td>\n",
       "      <td>CA-2017-152156</td>\n",
       "      <td>08/11/2017</td>\n",
       "      <td>11/11/2017</td>\n",
       "      <td>Second Class</td>\n",
       "      <td>CG-12520</td>\n",
       "      <td>Claire Gute</td>\n",
       "      <td>Consumer</td>\n",
       "      <td>United States</td>\n",
       "      <td>Henderson</td>\n",
       "      <td>Kentucky</td>\n",
       "      <td>42420</td>\n",
       "      <td>South</td>\n",
       "      <td>FUR-BO-10001798</td>\n",
       "      <td>Furniture</td>\n",
       "      <td>Bookcases</td>\n",
       "      <td>Bush Somerset Collection Bookcase</td>\n",
       "      <td>261.9600</td>\n",
       "    </tr>\n",
       "    <tr>\n",
       "      <th>1</th>\n",
       "      <td>2</td>\n",
       "      <td>CA-2017-152156</td>\n",
       "      <td>08/11/2017</td>\n",
       "      <td>11/11/2017</td>\n",
       "      <td>Second Class</td>\n",
       "      <td>CG-12520</td>\n",
       "      <td>Claire Gute</td>\n",
       "      <td>Consumer</td>\n",
       "      <td>United States</td>\n",
       "      <td>Henderson</td>\n",
       "      <td>Kentucky</td>\n",
       "      <td>42420</td>\n",
       "      <td>South</td>\n",
       "      <td>FUR-CH-10000454</td>\n",
       "      <td>Furniture</td>\n",
       "      <td>Chairs</td>\n",
       "      <td>Hon Deluxe Fabric Upholstered Stacking Chairs,...</td>\n",
       "      <td>731.9400</td>\n",
       "    </tr>\n",
       "    <tr>\n",
       "      <th>2</th>\n",
       "      <td>3</td>\n",
       "      <td>CA-2017-138688</td>\n",
       "      <td>12/06/2017</td>\n",
       "      <td>16/06/2017</td>\n",
       "      <td>Second Class</td>\n",
       "      <td>DV-13045</td>\n",
       "      <td>Darrin Van Huff</td>\n",
       "      <td>Corporate</td>\n",
       "      <td>United States</td>\n",
       "      <td>Los Angeles</td>\n",
       "      <td>California</td>\n",
       "      <td>90036</td>\n",
       "      <td>West</td>\n",
       "      <td>OFF-LA-10000240</td>\n",
       "      <td>Office Supplies</td>\n",
       "      <td>Labels</td>\n",
       "      <td>Self-Adhesive Address Labels for Typewriters b...</td>\n",
       "      <td>14.6200</td>\n",
       "    </tr>\n",
       "    <tr>\n",
       "      <th>3</th>\n",
       "      <td>4</td>\n",
       "      <td>US-2016-108966</td>\n",
       "      <td>11/10/2016</td>\n",
       "      <td>18/10/2016</td>\n",
       "      <td>Standard Class</td>\n",
       "      <td>SO-20335</td>\n",
       "      <td>Sean O'Donnell</td>\n",
       "      <td>Consumer</td>\n",
       "      <td>United States</td>\n",
       "      <td>Fort Lauderdale</td>\n",
       "      <td>Florida</td>\n",
       "      <td>33311</td>\n",
       "      <td>South</td>\n",
       "      <td>FUR-TA-10000577</td>\n",
       "      <td>Furniture</td>\n",
       "      <td>Tables</td>\n",
       "      <td>Bretford CR4500 Series Slim Rectangular Table</td>\n",
       "      <td>957.5775</td>\n",
       "    </tr>\n",
       "    <tr>\n",
       "      <th>4</th>\n",
       "      <td>5</td>\n",
       "      <td>US-2016-108966</td>\n",
       "      <td>11/10/2016</td>\n",
       "      <td>18/10/2016</td>\n",
       "      <td>Standard Class</td>\n",
       "      <td>SO-20335</td>\n",
       "      <td>Sean O'Donnell</td>\n",
       "      <td>Consumer</td>\n",
       "      <td>United States</td>\n",
       "      <td>Fort Lauderdale</td>\n",
       "      <td>Florida</td>\n",
       "      <td>33311</td>\n",
       "      <td>South</td>\n",
       "      <td>OFF-ST-10000760</td>\n",
       "      <td>Office Supplies</td>\n",
       "      <td>Storage</td>\n",
       "      <td>Eldon Fold 'N Roll Cart System</td>\n",
       "      <td>22.3680</td>\n",
       "    </tr>\n",
       "  </tbody>\n",
       "</table>\n",
       "</div>"
      ],
      "text/plain": [
       "   Row ID        Order ID  Order Date   Ship Date       Ship Mode Customer ID  \\\n",
       "0       1  CA-2017-152156  08/11/2017  11/11/2017    Second Class    CG-12520   \n",
       "1       2  CA-2017-152156  08/11/2017  11/11/2017    Second Class    CG-12520   \n",
       "2       3  CA-2017-138688  12/06/2017  16/06/2017    Second Class    DV-13045   \n",
       "3       4  US-2016-108966  11/10/2016  18/10/2016  Standard Class    SO-20335   \n",
       "4       5  US-2016-108966  11/10/2016  18/10/2016  Standard Class    SO-20335   \n",
       "\n",
       "     Customer Name    Segment        Country             City       State  \\\n",
       "0      Claire Gute   Consumer  United States        Henderson    Kentucky   \n",
       "1      Claire Gute   Consumer  United States        Henderson    Kentucky   \n",
       "2  Darrin Van Huff  Corporate  United States      Los Angeles  California   \n",
       "3   Sean O'Donnell   Consumer  United States  Fort Lauderdale     Florida   \n",
       "4   Sean O'Donnell   Consumer  United States  Fort Lauderdale     Florida   \n",
       "\n",
       "   Postal Code Region       Product ID         Category Sub-Category  \\\n",
       "0        42420  South  FUR-BO-10001798        Furniture    Bookcases   \n",
       "1        42420  South  FUR-CH-10000454        Furniture       Chairs   \n",
       "2        90036   West  OFF-LA-10000240  Office Supplies       Labels   \n",
       "3        33311  South  FUR-TA-10000577        Furniture       Tables   \n",
       "4        33311  South  OFF-ST-10000760  Office Supplies      Storage   \n",
       "\n",
       "                                        Product Name     Sales  \n",
       "0                  Bush Somerset Collection Bookcase  261.9600  \n",
       "1  Hon Deluxe Fabric Upholstered Stacking Chairs,...  731.9400  \n",
       "2  Self-Adhesive Address Labels for Typewriters b...   14.6200  \n",
       "3      Bretford CR4500 Series Slim Rectangular Table  957.5775  \n",
       "4                     Eldon Fold 'N Roll Cart System   22.3680  "
      ]
     },
     "execution_count": 90,
     "metadata": {},
     "output_type": "execute_result"
    }
   ],
   "source": [
    "df.head(5)"
   ]
  },
  {
   "cell_type": "code",
   "execution_count": 91,
   "id": "ebd806e6",
   "metadata": {},
   "outputs": [
    {
     "ename": "NameError",
     "evalue": "name 'types_of_shipping_mode' is not defined",
     "output_type": "error",
     "traceback": [
      "\u001b[1;31m---------------------------------------------------------------------------\u001b[0m",
      "\u001b[1;31mNameError\u001b[0m                                 Traceback (most recent call last)",
      "\u001b[1;32m<ipython-input-91-0cd8afd3f039>\u001b[0m in \u001b[0;36m<module>\u001b[1;34m\u001b[0m\n\u001b[0;32m      1\u001b[0m \u001b[0mtypes_of_shippig_mode\u001b[0m\u001b[1;33m=\u001b[0m\u001b[0mdf\u001b[0m\u001b[1;33m[\u001b[0m\u001b[1;34m'Ship Mode'\u001b[0m\u001b[1;33m]\u001b[0m\u001b[1;33m.\u001b[0m\u001b[0munique\u001b[0m\u001b[1;33m(\u001b[0m\u001b[1;33m)\u001b[0m\u001b[1;33m\u001b[0m\u001b[1;33m\u001b[0m\u001b[0m\n\u001b[1;32m----> 2\u001b[1;33m \u001b[0mprint\u001b[0m\u001b[1;33m(\u001b[0m\u001b[0mtypes_of_shipping_mode\u001b[0m\u001b[1;33m)\u001b[0m\u001b[1;33m\u001b[0m\u001b[1;33m\u001b[0m\u001b[0m\n\u001b[0m",
      "\u001b[1;31mNameError\u001b[0m: name 'types_of_shipping_mode' is not defined"
     ]
    }
   ],
   "source": [
    "types_of_shippig_mode=df['Ship Mode'].unique()\n",
    "print(types_of_shipping_mode)"
   ]
  },
  {
   "cell_type": "code",
   "execution_count": 92,
   "id": "e5e28025",
   "metadata": {},
   "outputs": [
    {
     "name": "stdout",
     "output_type": "stream",
     "text": [
      "            index  Ship Mode\n",
      "0  Standard Class       5859\n",
      "1    Second Class       1902\n",
      "2     First Class       1501\n",
      "3        Same Day        538\n"
     ]
    }
   ],
   "source": [
    "shipping_mode=df['Ship Mode'].value_counts().reset_index()\n",
    "print(shipping_mode)"
   ]
  },
  {
   "cell_type": "code",
   "execution_count": 93,
   "id": "a4f50c8b",
   "metadata": {},
   "outputs": [
    {
     "name": "stdout",
     "output_type": "stream",
     "text": [
      "  Mode of Shipment  Total Use\n",
      "0   Standard Class       5859\n",
      "1     Second Class       1902\n",
      "2      First Class       1501\n",
      "3         Same Day        538\n"
     ]
    }
   ],
   "source": [
    "shipping_mode=shipping_mode.rename(columns={'index':'Mode of Shipment','Ship Mode':'Total Use'})\n",
    "print(shipping_mode)"
   ]
  },
  {
   "cell_type": "code",
   "execution_count": 94,
   "id": "0a760d8e",
   "metadata": {},
   "outputs": [
    {
     "data": {
      "image/png": "[encoded data removed]",
      "text/plain": [
       "<Figure size 432x288 with 1 Axes>"
      ]
     },
     "metadata": {},
     "output_type": "display_data"
    }
   ],
   "source": [
    "plt.pie(shipping_mode['Total Use'],labels=shipping_mode['Mode of Shipment'],autopct='%1.1f%%')\n",
    "plt.title('Model of Shipment')\n",
    "plt.show()"
   ]
  },
  {
   "cell_type": "code",
   "execution_count": null,
   "id": "f42c5763",
   "metadata": {},
   "outputs": [],
   "source": []
  },
  {
   "cell_type": "markdown",
   "id": "78e64d2a",
   "metadata": {},
   "source": [
    "# Geographical Analysis"
   ]
  },
  {
   "cell_type": "code",
   "execution_count": 95,
   "id": "eabfaeea",
   "metadata": {},
   "outputs": [
    {
     "data": {
      "text/html": [
       "<div>\n",
       "<style scoped>\n",
       "    .dataframe tbody tr th:only-of-type {\n",
       "        vertical-align: middle;\n",
       "    }\n",
       "\n",
       "    .dataframe tbody tr th {\n",
       "        vertical-align: top;\n",
       "    }\n",
       "\n",
       "    .dataframe thead th {\n",
       "        text-align: right;\n",
       "    }\n",
       "</style>\n",
       "<table border=\"1\" class=\"dataframe\">\n",
       "  <thead>\n",
       "    <tr style=\"text-align: right;\">\n",
       "      <th></th>\n",
       "      <th>Row ID</th>\n",
       "      <th>Order ID</th>\n",
       "      <th>Order Date</th>\n",
       "      <th>Ship Date</th>\n",
       "      <th>Ship Mode</th>\n",
       "      <th>Customer ID</th>\n",
       "      <th>Customer Name</th>\n",
       "      <th>Segment</th>\n",
       "      <th>Country</th>\n",
       "      <th>City</th>\n",
       "      <th>State</th>\n",
       "      <th>Postal Code</th>\n",
       "      <th>Region</th>\n",
       "      <th>Product ID</th>\n",
       "      <th>Category</th>\n",
       "      <th>Sub-Category</th>\n",
       "      <th>Product Name</th>\n",
       "      <th>Sales</th>\n",
       "    </tr>\n",
       "  </thead>\n",
       "  <tbody>\n",
       "    <tr>\n",
       "      <th>0</th>\n",
       "      <td>1</td>\n",
       "      <td>CA-2017-152156</td>\n",
       "      <td>08/11/2017</td>\n",
       "      <td>11/11/2017</td>\n",
       "      <td>Second Class</td>\n",
       "      <td>CG-12520</td>\n",
       "      <td>Claire Gute</td>\n",
       "      <td>Consumer</td>\n",
       "      <td>United States</td>\n",
       "      <td>Henderson</td>\n",
       "      <td>Kentucky</td>\n",
       "      <td>42420</td>\n",
       "      <td>South</td>\n",
       "      <td>FUR-BO-10001798</td>\n",
       "      <td>Furniture</td>\n",
       "      <td>Bookcases</td>\n",
       "      <td>Bush Somerset Collection Bookcase</td>\n",
       "      <td>261.9600</td>\n",
       "    </tr>\n",
       "    <tr>\n",
       "      <th>1</th>\n",
       "      <td>2</td>\n",
       "      <td>CA-2017-152156</td>\n",
       "      <td>08/11/2017</td>\n",
       "      <td>11/11/2017</td>\n",
       "      <td>Second Class</td>\n",
       "      <td>CG-12520</td>\n",
       "      <td>Claire Gute</td>\n",
       "      <td>Consumer</td>\n",
       "      <td>United States</td>\n",
       "      <td>Henderson</td>\n",
       "      <td>Kentucky</td>\n",
       "      <td>42420</td>\n",
       "      <td>South</td>\n",
       "      <td>FUR-CH-10000454</td>\n",
       "      <td>Furniture</td>\n",
       "      <td>Chairs</td>\n",
       "      <td>Hon Deluxe Fabric Upholstered Stacking Chairs,...</td>\n",
       "      <td>731.9400</td>\n",
       "    </tr>\n",
       "    <tr>\n",
       "      <th>2</th>\n",
       "      <td>3</td>\n",
       "      <td>CA-2017-138688</td>\n",
       "      <td>12/06/2017</td>\n",
       "      <td>16/06/2017</td>\n",
       "      <td>Second Class</td>\n",
       "      <td>DV-13045</td>\n",
       "      <td>Darrin Van Huff</td>\n",
       "      <td>Corporate</td>\n",
       "      <td>United States</td>\n",
       "      <td>Los Angeles</td>\n",
       "      <td>California</td>\n",
       "      <td>90036</td>\n",
       "      <td>West</td>\n",
       "      <td>OFF-LA-10000240</td>\n",
       "      <td>Office Supplies</td>\n",
       "      <td>Labels</td>\n",
       "      <td>Self-Adhesive Address Labels for Typewriters b...</td>\n",
       "      <td>14.6200</td>\n",
       "    </tr>\n",
       "    <tr>\n",
       "      <th>3</th>\n",
       "      <td>4</td>\n",
       "      <td>US-2016-108966</td>\n",
       "      <td>11/10/2016</td>\n",
       "      <td>18/10/2016</td>\n",
       "      <td>Standard Class</td>\n",
       "      <td>SO-20335</td>\n",
       "      <td>Sean O'Donnell</td>\n",
       "      <td>Consumer</td>\n",
       "      <td>United States</td>\n",
       "      <td>Fort Lauderdale</td>\n",
       "      <td>Florida</td>\n",
       "      <td>33311</td>\n",
       "      <td>South</td>\n",
       "      <td>FUR-TA-10000577</td>\n",
       "      <td>Furniture</td>\n",
       "      <td>Tables</td>\n",
       "      <td>Bretford CR4500 Series Slim Rectangular Table</td>\n",
       "      <td>957.5775</td>\n",
       "    </tr>\n",
       "    <tr>\n",
       "      <th>4</th>\n",
       "      <td>5</td>\n",
       "      <td>US-2016-108966</td>\n",
       "      <td>11/10/2016</td>\n",
       "      <td>18/10/2016</td>\n",
       "      <td>Standard Class</td>\n",
       "      <td>SO-20335</td>\n",
       "      <td>Sean O'Donnell</td>\n",
       "      <td>Consumer</td>\n",
       "      <td>United States</td>\n",
       "      <td>Fort Lauderdale</td>\n",
       "      <td>Florida</td>\n",
       "      <td>33311</td>\n",
       "      <td>South</td>\n",
       "      <td>OFF-ST-10000760</td>\n",
       "      <td>Office Supplies</td>\n",
       "      <td>Storage</td>\n",
       "      <td>Eldon Fold 'N Roll Cart System</td>\n",
       "      <td>22.3680</td>\n",
       "    </tr>\n",
       "  </tbody>\n",
       "</table>\n",
       "</div>"
      ],
      "text/plain": [
       "   Row ID        Order ID  Order Date   Ship Date       Ship Mode Customer ID  \\\n",
       "0       1  CA-2017-152156  08/11/2017  11/11/2017    Second Class    CG-12520   \n",
       "1       2  CA-2017-152156  08/11/2017  11/11/2017    Second Class    CG-12520   \n",
       "2       3  CA-2017-138688  12/06/2017  16/06/2017    Second Class    DV-13045   \n",
       "3       4  US-2016-108966  11/10/2016  18/10/2016  Standard Class    SO-20335   \n",
       "4       5  US-2016-108966  11/10/2016  18/10/2016  Standard Class    SO-20335   \n",
       "\n",
       "     Customer Name    Segment        Country             City       State  \\\n",
       "0      Claire Gute   Consumer  United States        Henderson    Kentucky   \n",
       "1      Claire Gute   Consumer  United States        Henderson    Kentucky   \n",
       "2  Darrin Van Huff  Corporate  United States      Los Angeles  California   \n",
       "3   Sean O'Donnell   Consumer  United States  Fort Lauderdale     Florida   \n",
       "4   Sean O'Donnell   Consumer  United States  Fort Lauderdale     Florida   \n",
       "\n",
       "   Postal Code Region       Product ID         Category Sub-Category  \\\n",
       "0        42420  South  FUR-BO-10001798        Furniture    Bookcases   \n",
       "1        42420  South  FUR-CH-10000454        Furniture       Chairs   \n",
       "2        90036   West  OFF-LA-10000240  Office Supplies       Labels   \n",
       "3        33311  South  FUR-TA-10000577        Furniture       Tables   \n",
       "4        33311  South  OFF-ST-10000760  Office Supplies      Storage   \n",
       "\n",
       "                                        Product Name     Sales  \n",
       "0                  Bush Somerset Collection Bookcase  261.9600  \n",
       "1  Hon Deluxe Fabric Upholstered Stacking Chairs,...  731.9400  \n",
       "2  Self-Adhesive Address Labels for Typewriters b...   14.6200  \n",
       "3      Bretford CR4500 Series Slim Rectangular Table  957.5775  \n",
       "4                     Eldon Fold 'N Roll Cart System   22.3680  "
      ]
     },
     "execution_count": 95,
     "metadata": {},
     "output_type": "execute_result"
    }
   ],
   "source": [
    "df.head(5)"
   ]
  },
  {
   "cell_type": "code",
   "execution_count": 96,
   "id": "a06ac581",
   "metadata": {},
   "outputs": [
    {
     "name": "stdout",
     "output_type": "stream",
     "text": [
      "           index  Country\n",
      "0  United States     9800\n"
     ]
    }
   ],
   "source": [
    "country=df['Country'].value_counts().reset_index()\n",
    "print(country)"
   ]
  },
  {
   "cell_type": "code",
   "execution_count": 97,
   "id": "afb81915",
   "metadata": {},
   "outputs": [
    {
     "name": "stdout",
     "output_type": "stream",
     "text": [
      "                   index  State\n",
      "0             California   1946\n",
      "1               New York   1097\n",
      "2                  Texas    973\n",
      "3           Pennsylvania    582\n",
      "4             Washington    504\n",
      "5               Illinois    483\n",
      "6                   Ohio    454\n",
      "7                Florida    373\n",
      "8               Michigan    253\n",
      "9         North Carolina    247\n",
      "10              Virginia    224\n",
      "11               Arizona    223\n",
      "12             Tennessee    183\n",
      "13              Colorado    179\n",
      "14               Georgia    177\n",
      "15              Kentucky    137\n",
      "16               Indiana    135\n",
      "17         Massachusetts    135\n",
      "18                Oregon    122\n",
      "19            New Jersey    122\n",
      "20             Wisconsin    105\n",
      "21              Maryland    105\n",
      "22              Delaware     93\n",
      "23             Minnesota     89\n",
      "24           Connecticut     82\n",
      "25              Missouri     66\n",
      "26              Oklahoma     66\n",
      "27               Alabama     61\n",
      "28              Arkansas     60\n",
      "29          Rhode Island     55\n",
      "30           Mississippi     53\n",
      "31                  Utah     53\n",
      "32        South Carolina     42\n",
      "33             Louisiana     41\n",
      "34                Nevada     39\n",
      "35              Nebraska     38\n",
      "36            New Mexico     37\n",
      "37         New Hampshire     27\n",
      "38                  Iowa     26\n",
      "39                Kansas     24\n",
      "40                 Idaho     21\n",
      "41               Montana     15\n",
      "42          South Dakota     12\n",
      "43               Vermont     11\n",
      "44  District of Columbia     10\n",
      "45                 Maine      8\n",
      "46          North Dakota      7\n",
      "47         West Virginia      4\n",
      "48               Wyoming      1\n"
     ]
    }
   ],
   "source": [
    "state=df['State'].value_counts().reset_index()\n",
    "print(state)"
   ]
  },
  {
   "cell_type": "code",
   "execution_count": 98,
   "id": "e5103c07",
   "metadata": {},
   "outputs": [
    {
     "name": "stdout",
     "output_type": "stream",
     "text": [
      "            State  Number of Customers\n",
      "0      California                 1946\n",
      "1        New York                 1097\n",
      "2           Texas                  973\n",
      "3    Pennsylvania                  582\n",
      "4      Washington                  504\n",
      "5        Illinois                  483\n",
      "6            Ohio                  454\n",
      "7         Florida                  373\n",
      "8        Michigan                  253\n",
      "9  North Carolina                  247\n"
     ]
    }
   ],
   "source": [
    "state=state.rename(columns={'index':'State','State':'Number of Customers'})\n",
    "print(state.head(10))"
   ]
  },
  {
   "cell_type": "code",
   "execution_count": 99,
   "id": "eb3deb1f",
   "metadata": {},
   "outputs": [
    {
     "name": "stdout",
     "output_type": "stream",
     "text": [
      "            City  Number_of_customers\n",
      "0  New York City                  891\n",
      "1    Los Angeles                  728\n",
      "2   Philadelphia                  532\n",
      "3  San Francisco                  500\n",
      "4        Seattle                  426\n",
      "5        Houston                  374\n",
      "6        Chicago                  308\n",
      "7       Columbus                  221\n",
      "8      San Diego                  170\n",
      "9    Springfield                  161\n"
     ]
    }
   ],
   "source": [
    "city = df['City'].value_counts().reset_index()\n",
    "city= city.rename(columns={'index':'City', 'City':'Number_of_customers'})\n",
    "print(city.head(10))"
   ]
  },
  {
   "cell_type": "code",
   "execution_count": 100,
   "id": "0e6f12c0",
   "metadata": {},
   "outputs": [
    {
     "name": "stdout",
     "output_type": "stream",
     "text": [
      "             State        Sales\n",
      "0       California  446306.4635\n",
      "1         New York  306361.1470\n",
      "2            Texas  168572.5322\n",
      "3       Washington  135206.8500\n",
      "4     Pennsylvania  116276.6500\n",
      "5          Florida   88436.5320\n",
      "6         Illinois   79236.5170\n",
      "7         Michigan   76136.0740\n",
      "8             Ohio   75130.3500\n",
      "9         Virginia   70636.7200\n",
      "10  North Carolina   55165.9640\n",
      "11         Indiana   48718.4000\n",
      "12         Georgia   48219.1100\n",
      "13        Kentucky   36458.3900\n",
      "14         Arizona   35272.6570\n",
      "15      New Jersey   34610.9720\n",
      "16        Colorado   31841.5980\n",
      "17       Wisconsin   31173.4300\n",
      "18       Tennessee   30661.8730\n",
      "19       Minnesota   29863.1500\n"
     ]
    }
   ],
   "source": [
    "state_sales = df.groupby(['State'])['Sales'].sum().reset_index()\n",
    "\n",
    "# Sort the states based on their total sales in descending order to identify top spenders\n",
    "total_sales = state_sales.sort_values(by='Sales', ascending=False)\n",
    "\n",
    "# Print the states \n",
    "print(total_sales.head(20).reset_index(drop=True))"
   ]
  },
  {
   "cell_type": "code",
   "execution_count": 101,
   "id": "917a9bc1",
   "metadata": {},
   "outputs": [
    {
     "name": "stdout",
     "output_type": "stream",
     "text": [
      "             City        Sales\n",
      "0   New York City  252462.5470\n",
      "1     Los Angeles  173420.1810\n",
      "2         Seattle  116106.3220\n",
      "3   San Francisco  109041.1200\n",
      "4    Philadelphia  108841.7490\n",
      "5         Houston   63956.1428\n",
      "6         Chicago   47820.1330\n",
      "7       San Diego   47521.0290\n",
      "8    Jacksonville   44713.1830\n",
      "9         Detroit   42446.9440\n",
      "10    Springfield   41827.8100\n",
      "11       Columbus   38662.5630\n",
      "12         Newark   28448.0490\n",
      "13       Columbia   25283.3240\n",
      "14        Jackson   24963.8580\n",
      "15      Lafayette   24944.2800\n",
      "16    San Antonio   21843.5280\n",
      "17     Burlington   21668.0820\n",
      "18      Arlington   20214.5320\n",
      "19         Dallas   20127.9482\n"
     ]
    }
   ],
   "source": [
    "city_sales = df.groupby(['City'])['Sales'].sum().reset_index()\n",
    "\n",
    "# Sort the states based on their total sales in descending order to identify top spenders\n",
    "total_sales = city_sales.sort_values(by='Sales', ascending=False)\n",
    "\n",
    "# Print the states \n",
    "print(total_sales.head(20).reset_index(drop=True))"
   ]
  },
  {
   "cell_type": "code",
   "execution_count": 102,
   "id": "23887d22",
   "metadata": {},
   "outputs": [
    {
     "name": "stdout",
     "output_type": "stream",
     "text": [
      "     State           City     Sales\n",
      "0  Alabama         Auburn  1766.830\n",
      "1  Alabama        Decatur  3374.820\n",
      "2  Alabama       Florence  1997.350\n",
      "3  Alabama         Hoover   525.850\n",
      "4  Alabama     Huntsville  2484.370\n",
      "5  Alabama         Mobile  5462.990\n",
      "6  Alabama     Montgomery  3722.730\n",
      "7  Alabama     Tuscaloosa   175.700\n",
      "8  Arizona       Avondale   946.808\n",
      "9  Arizona  Bullhead City    22.288\n"
     ]
    }
   ],
   "source": [
    "state_city_sales = df.groupby(['State','City'])['Sales'].sum().reset_index()\n",
    "\n",
    "print(state_city_sales.head(10))"
   ]
  },
  {
   "cell_type": "markdown",
   "id": "f0f78d64",
   "metadata": {},
   "source": [
    "# Product Analysis"
   ]
  },
  {
   "cell_type": "code",
   "execution_count": 103,
   "id": "dff4f37a",
   "metadata": {},
   "outputs": [
    {
     "name": "stdout",
     "output_type": "stream",
     "text": [
      "['Furniture' 'Office Supplies' 'Technology']\n"
     ]
    }
   ],
   "source": [
    "products = df['Category'].unique()\n",
    "print(products)"
   ]
  },
  {
   "cell_type": "code",
   "execution_count": 104,
   "id": "de95b4c8",
   "metadata": {},
   "outputs": [
    {
     "name": "stdout",
     "output_type": "stream",
     "text": [
      "['Bookcases' 'Chairs' 'Labels' 'Tables' 'Storage' 'Furnishings' 'Art'\n",
      " 'Phones' 'Binders' 'Appliances' 'Paper' 'Accessories' 'Envelopes'\n",
      " 'Fasteners' 'Supplies' 'Machines' 'Copiers']\n"
     ]
    }
   ],
   "source": [
    "product_subcategory = df['Sub-Category'].unique()\n",
    "print(product_subcategory)"
   ]
  },
  {
   "cell_type": "code",
   "execution_count": 105,
   "id": "24bfb2ce",
   "metadata": {},
   "outputs": [
    {
     "name": "stdout",
     "output_type": "stream",
     "text": [
      "17\n"
     ]
    }
   ],
   "source": [
    "# Types of sub category \n",
    "\n",
    "product_subcategory = df['Sub-Category'].nunique()\n",
    "print(product_subcategory)"
   ]
  },
  {
   "cell_type": "code",
   "execution_count": 106,
   "id": "acb0eea5",
   "metadata": {},
   "outputs": [
    {
     "name": "stdout",
     "output_type": "stream",
     "text": [
      "          Category  Sub-Category\n",
      "1  Office Supplies             9\n",
      "0        Furniture             4\n",
      "2       Technology             4\n"
     ]
    }
   ],
   "source": [
    "# Group the data by product category and how many sub-category it has \n",
    "subcategory_count = df.groupby('Category')['Sub-Category'].nunique().reset_index()\n",
    "# sort by ascending order\n",
    "subcategory_count = subcategory_count.sort_values(by='Sub-Category', ascending=False)\n",
    "# Print the states \n",
    "print(subcategory_count)"
   ]
  },
  {
   "cell_type": "code",
   "execution_count": 107,
   "id": "cd972652",
   "metadata": {},
   "outputs": [
    {
     "name": "stdout",
     "output_type": "stream",
     "text": [
      "           Category Sub-Category        Sales\n",
      "0         Furniture    Bookcases  113813.1987\n",
      "1         Furniture       Chairs  322822.7310\n",
      "2         Furniture  Furnishings   89212.0180\n",
      "3         Furniture       Tables  202810.6280\n",
      "4   Office Supplies   Appliances  104618.4030\n",
      "5   Office Supplies          Art   26705.4100\n",
      "6   Office Supplies      Binders  200028.7850\n",
      "7   Office Supplies    Envelopes   16128.0460\n",
      "8   Office Supplies    Fasteners    3001.9600\n",
      "9   Office Supplies       Labels   12347.7260\n",
      "10  Office Supplies        Paper   76828.3040\n",
      "11  Office Supplies      Storage  219343.3920\n",
      "12  Office Supplies     Supplies   46420.3080\n",
      "13       Technology  Accessories  164186.7000\n",
      "14       Technology      Copiers  146248.0940\n",
      "15       Technology     Machines  189238.6310\n",
      "16       Technology       Phones  327782.4480\n"
     ]
    }
   ],
   "source": [
    "subcategory_count_sales = df.groupby(['Category','Sub-Category'])['Sales'].sum().reset_index()\n",
    "\n",
    "print(subcategory_count_sales)"
   ]
  },
  {
   "cell_type": "code",
   "execution_count": 108,
   "id": "d358132f",
   "metadata": {},
   "outputs": [
    {
     "name": "stdout",
     "output_type": "stream",
     "text": [
      "          Category        Sales\n",
      "0       Technology  827455.8730\n",
      "1        Furniture  728658.5757\n",
      "2  Office Supplies  705422.3340\n"
     ]
    }
   ],
   "source": [
    "# Group the data by product category versus the sales from each product category \n",
    "product_category = df.groupby(['Category'])['Sales'].sum().reset_index()\n",
    "\n",
    "# Sort the product category in their descending order and identify top product category\n",
    "top_product_category = product_category.sort_values(by='Sales', ascending=False) \n",
    "\n",
    "# Print the states \n",
    "print(top_product_category.reset_index(drop=True))"
   ]
  },
  {
   "cell_type": "code",
   "execution_count": 109,
   "id": "f37d2621",
   "metadata": {},
   "outputs": [
    {
     "data": {
      "image/png": "[encoded data removed]",
      "text/plain": [
       "<Figure size 432x288 with 1 Axes>"
      ]
     },
     "metadata": {},
     "output_type": "display_data"
    }
   ],
   "source": [
    "# Plotting a pie chart \n",
    "plt.pie(top_product_category['Sales'], labels=top_product_category['Category'], autopct='%1.1f%%')\n",
    "\n",
    "# set the labels of the pie chart \n",
    "plt.title('Top Product Categories Based on Sales')\n",
    "        \n",
    "plt.show()"
   ]
  },
  {
   "cell_type": "code",
   "execution_count": 110,
   "id": "a28fd9cc",
   "metadata": {},
   "outputs": [
    {
     "data": {
      "image/png": "[encoded data removed]",
      "text/plain": [
       "<Figure size 432x288 with 1 Axes>"
      ]
     },
     "metadata": {
      "needs_background": "light"
     },
     "output_type": "display_data"
    }
   ],
   "source": [
    "# Customer age distribution \n",
    "\n",
    "plt.hist(df['Sales'], bins=20, edgecolor='black')\n",
    "plt.title('Top Product Categories Based on Sales')\n",
    "plt.xlabel('')\n",
    "plt.ylabel('product_category')\n",
    "plt.show()"
   ]
  },
  {
   "cell_type": "code",
   "execution_count": 111,
   "id": "768bd7a4",
   "metadata": {},
   "outputs": [
    {
     "name": "stdout",
     "output_type": "stream",
     "text": [
      "   Sub-Category        Sales\n",
      "0        Phones  327782.4480\n",
      "1        Chairs  322822.7310\n",
      "2       Storage  219343.3920\n",
      "3        Tables  202810.6280\n",
      "4       Binders  200028.7850\n",
      "5      Machines  189238.6310\n",
      "6   Accessories  164186.7000\n",
      "7       Copiers  146248.0940\n",
      "8     Bookcases  113813.1987\n",
      "9    Appliances  104618.4030\n",
      "10  Furnishings   89212.0180\n",
      "11        Paper   76828.3040\n",
      "12     Supplies   46420.3080\n",
      "13          Art   26705.4100\n",
      "14    Envelopes   16128.0460\n",
      "15       Labels   12347.7260\n",
      "16    Fasteners    3001.9600\n"
     ]
    }
   ],
   "source": [
    "# Group the data by product sub category versus the sales  \n",
    "product_subcategory = df.groupby(['Sub-Category'])['Sales'].sum().reset_index()\n",
    "\n",
    "# Sort the product category in their descending order and identify top product category\n",
    "top_product_subcategory = product_subcategory.sort_values(by='Sales', ascending=False) \n",
    "\n",
    "# Print the states \n",
    "print(top_product_subcategory.reset_index(drop=True))"
   ]
  },
  {
   "cell_type": "code",
   "execution_count": 112,
   "id": "4f43368d",
   "metadata": {},
   "outputs": [
    {
     "data": {
      "image/png": "[encoded data removed]",
      "text/plain": [
       "<Figure size 432x288 with 1 Axes>"
      ]
     },
     "metadata": {
      "needs_background": "light"
     },
     "output_type": "display_data"
    }
   ],
   "source": [
    "top_product_subcategory = top_product_subcategory.sort_values(by='Sales', ascending=True)\n",
    "\n",
    "# Ploting a bar graph\n",
    "\n",
    "plt.barh(top_product_subcategory['Sub-Category'], top_product_subcategory['Sales'])\n",
    "\n",
    "# Labels\n",
    "plt.title('Top Product Categories Based on Sales')\n",
    "plt.xlabel('Product Sub-Category')\n",
    "plt.ylabel('Total Sales')\n",
    "plt.xticks(rotation=0)\n",
    "\n",
    "plt.show()"
   ]
  },
  {
   "cell_type": "markdown",
   "id": "41d91b8b",
   "metadata": {},
   "source": [
    "# Sales\n"
   ]
  },
  {
   "cell_type": "code",
   "execution_count": 113,
   "id": "f54d6106",
   "metadata": {},
   "outputs": [
    {
     "name": "stdout",
     "output_type": "stream",
     "text": [
      "   Year  Total Sales\n",
      "0  2015  479856.2081\n",
      "1  2016  459436.0054\n",
      "2  2017  600192.5500\n",
      "3  2018  722052.0192\n"
     ]
    }
   ],
   "source": [
    "# Convert the \"Order Date\" column to datetime format\n",
    "\n",
    "df['Order Date'] = pd.to_datetime(df['Order Date'], dayfirst=True)\n",
    "\n",
    "# Group the data by years and calculate the total sales amount for each year\n",
    "yearly_sales = df.groupby(df['Order Date'].dt.year)['Sales'].sum()\n",
    "\n",
    "yearly_sales = yearly_sales.reset_index()\n",
    "yearly_sales = yearly_sales.rename(columns={'Order Date': 'Year', 'Sales':'Total Sales'})\n",
    "\n",
    "# yearly_sales = \n",
    "# Print the total sales for each year\n",
    "print(yearly_sales)"
   ]
  },
  {
   "cell_type": "code",
   "execution_count": 114,
   "id": "1f636f9d",
   "metadata": {},
   "outputs": [
    {
     "data": {
      "image/png": "[encoded data removed]",
      "text/plain": [
       "<Figure size 432x288 with 1 Axes>"
      ]
     },
     "metadata": {
      "needs_background": "light"
     },
     "output_type": "display_data"
    }
   ],
   "source": [
    "# Ploting a bar graph\n",
    "\n",
    "plt.bar(yearly_sales['Year'], yearly_sales['Total Sales'])\n",
    "\n",
    "# Labels\n",
    "plt.title('Yearly Sales')\n",
    "plt.xlabel('Year')\n",
    "plt.ylabel('Total Sales')\n",
    "plt.xticks(rotation=45)\n",
    "\n",
    "plt.show()"
   ]
  },
  {
   "cell_type": "code",
   "execution_count": 115,
   "id": "8001e9da",
   "metadata": {},
   "outputs": [
    {
     "data": {
      "image/png": "[encoded data removed]",
      "text/plain": [
       "<Figure size 432x288 with 1 Axes>"
      ]
     },
     "metadata": {
      "needs_background": "light"
     },
     "output_type": "display_data"
    }
   ],
   "source": [
    "# Create a line graph for total sales by year\n",
    "plt.plot(yearly_sales['Year'], yearly_sales['Total Sales'], marker='o', linestyle='-')\n",
    "plt.xlabel('Year')\n",
    "plt.ylabel('Total Sales')\n",
    "plt.title('Total Sales by Year')\n",
    "\n",
    "# Display the plot\n",
    "plt.tight_layout()\n",
    "\n",
    "plt.show()"
   ]
  },
  {
   "cell_type": "code",
   "execution_count": 116,
   "id": "9ae19c15",
   "metadata": {},
   "outputs": [
    {
     "name": "stdout",
     "output_type": "stream",
     "text": [
      "Quarterly Sales for 2018:\n",
      "     Quarter  Total Sales\n",
      "0 2018-03-31  122260.8842\n",
      "1 2018-06-30  127558.6200\n",
      "2 2018-09-30  193815.8400\n",
      "3 2018-12-31  278416.6750\n"
     ]
    }
   ],
   "source": [
    "# Convert the \"Order Date\" column to datetime format\n",
    "df['Order Date'] = pd.to_datetime(df['Order Date'], dayfirst=True)\n",
    "\n",
    "# Filter the data for the year 2018\n",
    "year_sales = df[df['Order Date'].dt.year == 2018]\n",
    "\n",
    "# Calculate the quarterly sales for 2018\n",
    "quarterly_sales = year_sales.resample('Q', on='Order Date')['Sales'].sum()\n",
    "\n",
    "quarterly_sales = quarterly_sales.reset_index()\n",
    "quarterly_sales = quarterly_sales.rename(columns={'Order Date': 'Quarter', 'Sales':'Total Sales'})\n",
    "\n",
    "\n",
    "print(\"Quarterly Sales for 2018:\")\n",
    "print(quarterly_sales)"
   ]
  },
  {
   "cell_type": "code",
   "execution_count": 117,
   "id": "32d776ac",
   "metadata": {},
   "outputs": [
    {
     "data": {
      "image/png": "[encoded data removed]",
      "text/plain": [
       "<Figure size 432x288 with 1 Axes>"
      ]
     },
     "metadata": {
      "needs_background": "light"
     },
     "output_type": "display_data"
    }
   ],
   "source": [
    "# Create a line graph for total sales by year\n",
    "plt.plot(quarterly_sales['Quarter'], quarterly_sales['Total Sales'], marker='o', linestyle='--')\n",
    "\n",
    "plt.xlabel('Year')\n",
    "plt.ylabel('Total Sales')\n",
    "plt.title('Total Sales by Year')\n",
    "\n",
    "# Display the plot\n",
    "plt.tight_layout()\n",
    "plt.xticks(rotation=75)\n",
    "\n",
    "plt.show()"
   ]
  },
  {
   "cell_type": "code",
   "execution_count": 118,
   "id": "36fe587e",
   "metadata": {},
   "outputs": [
    {
     "name": "stdout",
     "output_type": "stream",
     "text": [
      "Monthly Sales for 2018:\n",
      "        Month  Total Montly Sales\n",
      "0  2018-01-31          43476.4740\n",
      "1  2018-02-28          19920.9974\n",
      "2  2018-03-31          58863.4128\n",
      "3  2018-04-30          35541.9101\n",
      "4  2018-05-31          43825.9822\n",
      "5  2018-06-30          48190.7277\n",
      "6  2018-07-31          44825.1040\n",
      "7  2018-08-31          62837.8480\n",
      "8  2018-09-30          86152.8880\n",
      "9  2018-10-31          77448.1312\n",
      "10 2018-11-30         117938.1550\n",
      "11 2018-12-31          83030.3888\n"
     ]
    }
   ],
   "source": [
    "# Convert the \"Order Date\" column to datetime format\n",
    "df['Order Date'] = pd.to_datetime(df['Order Date'], dayfirst=True)\n",
    "\n",
    "# Filter the data for the year 2018\n",
    "year_sales = df[df['Order Date'].dt.year == 2018]\n",
    "\n",
    "# Calculate the monthly sales for 2018\n",
    "monthly_sales = year_sales.resample('M', on='Order Date')['Sales'].sum()\n",
    "\n",
    "# Renaming the columns\n",
    "monthly_sales = monthly_sales.reset_index()\n",
    "monthly_sales = monthly_sales.rename(columns={'Order Date':'Month', 'Sales':'Total Montly Sales'})\n",
    "\n",
    "# Print the monthly and quarterly sales for 2018\n",
    "print(\"Monthly Sales for 2018:\")\n",
    "print(monthly_sales)"
   ]
  },
  {
   "cell_type": "code",
   "execution_count": 119,
   "id": "15b3c127",
   "metadata": {},
   "outputs": [
    {
     "data": {
      "image/png": "[encoded data removed]",
      "text/plain": [
       "<Figure size 432x288 with 1 Axes>"
      ]
     },
     "metadata": {
      "needs_background": "light"
     },
     "output_type": "display_data"
    }
   ],
   "source": [
    "# Create a line graph for total sales by year\n",
    "plt.plot(monthly_sales['Month'], monthly_sales['Total Montly Sales'], marker='o', linestyle='--')\n",
    "\n",
    "plt.xlabel('Year')\n",
    "plt.ylabel('Total Sales')\n",
    "plt.title('Total Sales by Month')\n",
    "\n",
    "# Display the plot\n",
    "plt.tight_layout()\n",
    "plt.xticks(rotation=75)\n",
    "\n",
    "plt.show()"
   ]
  },
  {
   "cell_type": "markdown",
   "id": "f61a9379",
   "metadata": {},
   "source": [
    "# Sales Trends\n"
   ]
  },
  {
   "cell_type": "code",
   "execution_count": 120,
   "id": "6e2f0a9e",
   "metadata": {},
   "outputs": [
    {
     "data": {
      "image/png": "[encoded data removed]",
      "text/plain": [
       "<Figure size 864x1872 with 1 Axes>"
      ]
     },
     "metadata": {
      "needs_background": "light"
     },
     "output_type": "display_data"
    }
   ],
   "source": [
    "# Convert the \"Order Date\" column to datetime format\n",
    "df['Order Date'] = pd.to_datetime(df['Order Date'], dayfirst=True)\n",
    "\n",
    "# Group the data by months and calculate the total sales amount for each month\n",
    "monthly_sales = df.groupby(df['Order Date'].dt.to_period('M'))['Sales'].sum()\n",
    "\n",
    "# Plot the sales trends for months\n",
    "plt.figure(figsize=(12, 26))\n",
    "\n",
    "# Monthly Sales Trend\n",
    "plt.subplot(3, 1, 1)\n",
    "monthly_sales.plot(kind='line', marker='o')\n",
    "plt.title('Monthly Sales Trend')\n",
    "plt.xlabel('Month')\n",
    "plt.ylabel('Sales Amount')\n",
    "\n",
    "# Adjust layout and display the plots\n",
    "# plt.tight_layout()\n",
    "plt.show()\n"
   ]
  },
  {
   "cell_type": "code",
   "execution_count": 121,
   "id": "47bac70e",
   "metadata": {},
   "outputs": [
    {
     "data": {
      "image/png": "[encoded data removed]",
      "text/plain": [
       "<Figure size 864x1440 with 1 Axes>"
      ]
     },
     "metadata": {
      "needs_background": "light"
     },
     "output_type": "display_data"
    }
   ],
   "source": [
    "# Assuming you have a DataFrame named \"df\" with columns \"Order Date\" and \"Sales amount\"\n",
    "\n",
    "# Convert the \"Order Date\" column to datetime format\n",
    "df['Order Date'] = pd.to_datetime(df['Order Date'], dayfirst=True)\n",
    "\n",
    "# Group the data by quarters and calculate the total sales amount for each quarter\n",
    "quarterly_sales = df.groupby(df['Order Date'].dt.to_period('Q'))['Sales'].sum()\n",
    "\n",
    "# Plot the sales trends for months, quarters, and years\n",
    "plt.figure(figsize=(12, 20))\n",
    "\n",
    "# Quarterly Sales Trend\n",
    "plt.subplot(3, 1, 2)\n",
    "quarterly_sales.plot(kind='line', marker='o')\n",
    "plt.title('Quarterly Sales Trend')\n",
    "plt.xlabel('Quarter')\n",
    "plt.ylabel('Sales Amount')\n",
    "\n",
    "# Adjust layout and display the plots\n",
    "#plt.tight_layout()\n",
    "plt.show()"
   ]
  },
  {
   "cell_type": "code",
   "execution_count": null,
   "id": "58ae1599",
   "metadata": {},
   "outputs": [],
   "source": []
  },
  {
   "cell_type": "code",
   "execution_count": null,
   "id": "90802b53",
   "metadata": {},
   "outputs": [],
   "source": []
  },
  {
   "cell_type": "code",
   "execution_count": null,
   "id": "3d4abd9c",
   "metadata": {},
   "outputs": [],
   "source": []
  },
  {
   "cell_type": "code",
   "execution_count": null,
   "id": "f1466e1a",
   "metadata": {},
   "outputs": [],
   "source": []
  },
  {
   "cell_type": "code",
   "execution_count": null,
   "id": "ecc487b5",
   "metadata": {},
   "outputs": [],
   "source": []
  }
 ],
 "metadata": {
  "kernelspec": {
   "display_name": "Python 3",
   "language": "python",
   "name": "python3"
  },
  "language_info": {
   "codemirror_mode": {
    "name": "ipython",
    "version": 3
   },
   "file_extension": ".py",
   "mimetype": "text/x-python",
   "name": "python",
   "nbconvert_exporter": "python",
   "pygments_lexer": "ipython3",
   "version": "3.8.8"
  }
 },
 "nbformat": 4,
 "nbformat_minor": 5
}
